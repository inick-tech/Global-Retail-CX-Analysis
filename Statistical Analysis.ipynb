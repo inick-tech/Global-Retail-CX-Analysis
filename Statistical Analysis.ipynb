{
  "nbformat": 4,
  "nbformat_minor": 0,
  "metadata": {
    "colab": {
      "provenance": []
    },
    "kernelspec": {
      "name": "python3",
      "display_name": "Python 3"
    },
    "language_info": {
      "name": "python"
    }
  },
  "cells": [
    {
      "cell_type": "code",
      "source": [
        "print(\"\\n\\n==============================================\")\n",
        "    print(\"--- Starting Statistical Analysis ---\")\n",
        "    print(\"==============================================\")\n",
        "\n",
        "    if len(df_categorized) < 10:\n",
        "        print(\"Not enough categorized data for statistical analysis.\")\n",
        "    else:\n",
        "        # 1. Chi-Square Test\n",
        "        print(\"\\n1. Chi-Square Test of Independence (Relationship between Category and Sentiment)\")\n",
        "        contingency_table = pd.crosstab(df_categorized['category'], df_categorized['sentiment'])\n",
        "        print(\"\\nContingency Table:\")\n",
        "        print(contingency_table)\n",
        "\n",
        "        chi2, p, dof, expected = chi2_contingency(contingency_table)\n",
        "        print(f\"\\nChi-square statistic (χ²): {chi2:.2f}\")\n",
        "        print(f\"Degrees of freedom (df): {dof}\")\n",
        "        print(f\"P-value: {p:.4f}\")\n",
        "\n",
        "        alpha = 0.05\n",
        "        if p < alpha:\n",
        "            print(\"Result: The association between thematic category and sentiment polarity is statistically significant (p < 0.05).\")\n",
        "        else:\n",
        "            print(\"Result: No significant association was found between thematic category and sentiment polarity (p >= 0.05).\")\n",
        "\n",
        "        print(\"\\n✍️ Sample text for your paper:\")\n",
        "        print(f\"A chi-square test of independence confirmed a statistically significant association between thematic category and sentiment polarity (χ² = {chi2:.2f}, df = {dof}, p < {p:.3f}), indicating that the distribution of sentiments is not uniform across categories.\")\n",
        "\n",
        "        # 2. One-Way ANOVA\n",
        "        print(\"\\n\\n2. One-Way ANOVA on Sentiment Scores\")\n",
        "        # Prepare data for ANOVA\n",
        "        categories = df_categorized['category'].unique()\n",
        "        grouped_data = [df_categorized['sentiment_score'][df_categorized['category'] == cat] for cat in categories]\n",
        "\n",
        "        if len(grouped_data) > 1:\n",
        "            f_stat, p_val_anova = f_oneway(*grouped_data)\n",
        "            print(f\"\\nF-statistic: {f_stat:.2f}\")\n",
        "            print(f\"P-value: {p_val_anova:.4f}\")\n",
        "\n",
        "            if p_val_anova < alpha:\n",
        "                print(\"Result: There is a significant difference in the mean sentiment scores across the different categories (p < 0.05).\")\n",
        "            else:\n",
        "                print(\"Result: No significant difference was found in the mean sentiment scores across categories (p >= 0.05).\")\n",
        "\n",
        "            print(\"\\n✍️ Sample text for your paper:\")\n",
        "            print(f\"Further, a one-way ANOVA performed on sentiment scores also demonstrated significant variance across themes (F({len(categories)-1}, {len(df_categorized)-len(categories)}) = {f_stat:.2f}, p < {p_val_anova:.3f}), confirming the asymmetry in emotional expression by topic.\")\n",
        "\n",
        "        # 3. More Descriptive Statistics\n",
        "        print(\"\\n\\n3. Additional Descriptive Statistics\")\n",
        "        df_categorized['post_length'] = df_categorized['text_combined'].str.len()\n",
        "        mean_length_by_category = df_categorized.groupby('category')['post_length'].mean().round(0)\n",
        "        mean_score_by_category = df_categorized.groupby('category')['sentiment_score'].mean().round(3)\n",
        "\n",
        "        print(\"\\nMean Post Length by Category:\")\n",
        "        print(mean_length_by_category)\n",
        "        print(\"\\nMean Sentiment Score by Category:\")\n",
        "        print(mean_score_by_category)\n"
      ],
      "metadata": {
        "id": "tXgKTsvwZCgY"
      },
      "execution_count": null,
      "outputs": []
    }
  ]
}